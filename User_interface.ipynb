{
 "cells": [
  {
   "cell_type": "code",
   "execution_count": 1,
   "id": "f24d2148",
   "metadata": {
    "ExecuteTime": {
     "end_time": "2022-04-16T16:11:29.529798Z",
     "start_time": "2022-04-16T16:11:25.382741Z"
    }
   },
   "outputs": [],
   "source": [
    "%matplotlib widget\n",
    "%matplotlib widget\n",
    "\n",
    "import ipywidgets as widgets\n",
    "from IPython.display import clear_output\n",
    "\n",
    "import jupyros as jr\n",
    "import rospy\n",
    "\n",
    "from std_msgs.msg import String\n",
    "from a3_code.srv import Coordinate_xy    #used in case 1\n",
    "\n",
    "from IPython.display import display\n",
    "\n",
    "from geometry_msgs.msg import Twist, Vector3    #for cmd_vel topic\n",
    "\n",
    "from jupyros import ros3d\n",
    "import os\n",
    "\n",
    "\n",
    "import matplotlib.pyplot as plt\n",
    "import tf\n",
    "from nav_msgs.msg import Odometry\n",
    "from sensor_msgs.msg import LaserScan\n",
    "from tf.transformations import quaternion_matrix\n",
    "import numpy as np\n",
    "from matplotlib.animation import FuncAnimation\n",
    "\n",
    "\n",
    "reached_task = []"
   ]
  },
  {
   "cell_type": "code",
   "execution_count": 2,
   "id": "8634ef03",
   "metadata": {
    "ExecuteTime": {
     "end_time": "2022-04-16T16:11:29.576559Z",
     "start_time": "2022-04-16T16:11:29.542436Z"
    }
   },
   "outputs": [
    {
     "data": {
      "text/plain": [
       "'\\n#useless to be deleted\\n#directly moved in an other position\\ndef odom_visualization():\\n    print(\"starting visualization\")\\n    vis = Visualiser()\\n    sub = rospy.Subscriber(\\'/odom\\', Odometry, vis.odom_callback)\\n    ani = FuncAnimation(vis.fig, vis.update_plot, init_func=vis.plot_init)\\n    plt.show(block=True)\\n'"
      ]
     },
     "execution_count": 2,
     "metadata": {},
     "output_type": "execute_result"
    }
   ],
   "source": [
    "\"\"\"\n",
    "#useless to be deleted\n",
    "#directly moved in an other position\n",
    "def odom_visualization():\n",
    "    print(\"starting visualization\")\n",
    "    vis = Visualiser()\n",
    "    sub = rospy.Subscriber('/odom', Odometry, vis.odom_callback)\n",
    "    ani = FuncAnimation(vis.fig, vis.update_plot, init_func=vis.plot_init)\n",
    "    plt.show(block=True)\n",
    "\"\"\"    "
   ]
  },
  {
   "cell_type": "code",
   "execution_count": 3,
   "id": "3543d922",
   "metadata": {
    "ExecuteTime": {
     "end_time": "2022-04-16T16:11:29.672181Z",
     "start_time": "2022-04-16T16:11:29.594327Z"
    }
   },
   "outputs": [],
   "source": [
    "def set_cmd_vel(direction):\n",
    "    #direction is considerable as a matrix 3x3\n",
    "    #up-left    up     up-right\n",
    "    #left       pause  right\n",
    "    #down-left  down   down-right\n",
    "    \n",
    "    #initialize a Twist object for the publisher\n",
    "    init = Vector3(0, 0, 0)\n",
    "    vel = Twist( init, init)\n",
    "    \n",
    "    lin_vel = 0.5\n",
    "    ang_vel = 0.5\n",
    "    \n",
    "    if direction == 1:\n",
    "        vel.linear.x = lin_vel\n",
    "        vel.angular.z = ang_vel\n",
    "    \n",
    "    elif direction == 2:\n",
    "        vel.linear.x = lin_vel\n",
    "        \n",
    "    elif direction == 3:\n",
    "        vel.linear.x = lin_vel\n",
    "        vel.angular.z = -ang_vel\n",
    "        \n",
    "    elif direction == 4:\n",
    "        vel.angular.z = ang_vel\n",
    "        \n",
    "#    elif direction == 5:\n",
    "        #do nothing\n",
    "    elif direction == 6:\n",
    "        vel.angular.z = -ang_vel\n",
    "    elif direction == 7:\n",
    "        vel.linear.x = -lin_vel\n",
    "        vel.angular.z = ang_vel\n",
    "    elif direction == 8:\n",
    "        vel.linear.x = -lin_vel\n",
    "    elif direction == 9:\n",
    "        vel.linear.x = -lin_vel\n",
    "        vel.angular.z = -ang_vel\n",
    "    \n",
    "    \n",
    "    #initialize the publisher\n",
    "    pub = rospy.Publisher('remap_cmd_vel',Twist, queue_size=10)\n",
    "    #pubblic on topic remap_cmd_vel to the robot\n",
    "    pub.publish(vel)\n",
    "    "
   ]
  },
  {
   "cell_type": "code",
   "execution_count": 4,
   "id": "dff724d2",
   "metadata": {
    "ExecuteTime": {
     "end_time": "2022-04-16T16:11:29.712901Z",
     "start_time": "2022-04-16T16:11:29.684984Z"
    }
   },
   "outputs": [],
   "source": [
    "def drive_interface():\n",
    "    \n",
    "\n",
    "\n",
    "#    display(buttonUP, buttonDOWN, buttonLEFT, buttonRIGHT, buttonPAUSE, toggle)\n",
    "    display(arrow_box)\n",
    "    display(toggle)\n",
    "    display(button4)\n",
    "    \n",
    "    \n",
    "    \n",
    "    buttonUP.on_click(on_button_clicked_UP)\n",
    "    buttonDOWN.on_click(on_button_clicked_DOWN)\n",
    "    buttonLEFT.on_click(on_button_clicked_LEFT)\n",
    "    buttonRIGHT.on_click(on_button_clicked_RIGHT)\n",
    "    buttonPAUSE.on_click(on_button_clicked_PAUSE)\n",
    "    \n",
    "    buttonUP_LEFT.on_click(on_button_clicked_UP_LEFT)\n",
    "    buttonUP_RIGHT.on_click(on_button_clicked_UP_RIGHT)\n",
    "    buttonDOWN_LEFT.on_click(on_button_clicked_DOWN_LEFT)\n",
    "    buttonDOWN_RIGHT.on_click(on_button_clicked_DOWN_RIGHT)\n",
    "    toggle.observe(toggle_handler, names='value')\n",
    "    \n",
    "    button4.on_click(on_button_clicked_4)\n",
    "    \n",
    "    #display the ros3d map\n",
    "    display_map()"
   ]
  },
  {
   "cell_type": "code",
   "execution_count": 5,
   "id": "8c3a6207",
   "metadata": {
    "ExecuteTime": {
     "end_time": "2022-04-16T16:11:29.748829Z",
     "start_time": "2022-04-16T16:11:29.720083Z"
    }
   },
   "outputs": [],
   "source": [
    "def display_map():\n",
    "    v = ros3d.Viewer()\n",
    "    rc = ros3d.ROSConnection(url=\"ws://localhost:9090\")\n",
    "    tf_client = ros3d.TFClient(ros=rc, fixed_frame='map')\n",
    "\n",
    "    laser_view = ros3d.LaserScan(topic=\"/scan\", ros=rc, tf_client=tf_client)\n",
    "    map_view = ros3d.OccupancyGrid(topic=\"/map\", ros=rc, tf_client=tf_client, continuous=True)\n",
    "    path = ros3d.Path(topic=\"/move_base/NavfnROS/plan\", ros=rc,\n",
    "    tf_client=tf_client)\n",
    "    urdf = ros3d.URDFModel(ros=rc, tf_client=tf_client,\n",
    "    path=os.environ.get('JUPYROS_ASSETS_URL', 'http://localhost:3000'))\n",
    "    g = ros3d.GridModel()\n",
    "\n",
    "    #v.objects = [g, laser_view, map_view, path, urdf]\n",
    "    v.objects = [laser_view, map_view, urdf]\n",
    "\n",
    "    display(v)"
   ]
  },
  {
   "cell_type": "code",
   "execution_count": 6,
   "id": "50289d28",
   "metadata": {
    "ExecuteTime": {
     "end_time": "2022-04-16T16:11:29.840784Z",
     "start_time": "2022-04-16T16:11:29.758873Z"
    }
   },
   "outputs": [],
   "source": [
    "#call back functions for the button click event\n",
    "def on_button_clicked_1(b):\n",
    "    with output:\n",
    "        print(\"Button 1 clicked.\")\n",
    "        button1.disabled=True\n",
    "        button2.disabled=True\n",
    "        \n",
    "        display(box_x, box_y, button3, button4)\n",
    "          \n",
    "        button3.on_click(on_button_clicked_3)\n",
    "        button4.on_click(on_button_clicked_4)\n",
    "        \n",
    "        \n",
    "        \n",
    "def on_button_clicked_2(b):\n",
    "    with output:\n",
    "        #open drive interface\n",
    "        \n",
    "        button2.disabled=True\n",
    "        button1.disabled=True\n",
    "        \n",
    "        drive_interface()\n",
    "        \n",
    "        \n",
    "        \n",
    "#submit the action for reaching a coordinate and wait for a response       \n",
    "def on_button_clicked_3(b):\n",
    "    with output:\n",
    "        #print(\"Button 3 clicked.\")\n",
    "        \n",
    "        button3.disabled=True\n",
    "        print(box_x.value, box_y.value)\n",
    "        \n",
    "        rospy.wait_for_service('coordinate_xy')\n",
    "        coordinate_xy = rospy.ServiceProxy('coordinate_xy', Coordinate_xy)\n",
    "        rt = coordinate_xy(box_x.value , box_y.value)\n",
    "        if rt.return_ == 1:\n",
    "            print(\"target reached successfully!\")\n",
    "            reached_task.append('reached')\n",
    "        else:\n",
    "            print(\"target not reached\")\n",
    "            reached_task.append('not reached')\n",
    "        display(button4)\n",
    "        button4.on_click(on_button_clicked_4)\n",
    "        \n",
    "\n",
    "def on_button_clicked_4(b):\n",
    "    with output:\n",
    "        clear_output()\n",
    "        button1.disabled=False\n",
    "        button2.disabled=False\n",
    "        button3.disabled=False\n",
    "        \n",
    "\n",
    "#handle all the different buttons for manually drive the robot\n",
    "#calling the associated set_cmd_vel function with the correct parameter\n",
    "def on_button_clicked_UP(b):\n",
    "    set_cmd_vel(2)\n",
    "def on_button_clicked_DOWN(b):\n",
    "    set_cmd_vel(8)\n",
    "def on_button_clicked_LEFT(b):\n",
    "    set_cmd_vel(4)\n",
    "def on_button_clicked_RIGHT(b):\n",
    "    set_cmd_vel(6)\n",
    "def on_button_clicked_PAUSE(b):\n",
    "    set_cmd_vel(5)\n",
    "\n",
    "def on_button_clicked_UP_LEFT(b):\n",
    "    set_cmd_vel(1)\n",
    "def on_button_clicked_UP_RIGHT(b):\n",
    "    set_cmd_vel(3)\n",
    "def on_button_clicked_DOWN_LEFT(b):\n",
    "    set_cmd_vel(7)\n",
    "def on_button_clicked_DOWN_RIGHT(b):\n",
    "    set_cmd_vel(9)\n",
    "    \n",
    "def toggle_handler(b):\n",
    "    rospy.set_param(\"/collision_avoidance\", toggle.value)"
   ]
  },
  {
   "cell_type": "code",
   "execution_count": 7,
   "id": "e95e9d4f",
   "metadata": {
    "ExecuteTime": {
     "end_time": "2022-04-16T16:11:32.156732Z",
     "start_time": "2022-04-16T16:11:29.847686Z"
    },
    "scrolled": false
   },
   "outputs": [
    {
     "data": {
      "application/vnd.jupyter.widget-view+json": {
       "model_id": "b9281ce05f8e48f4920d843bf93670d3",
       "version_major": 2,
       "version_minor": 0
      },
      "text/plain": [
       "Button(description='reach coordinate', style=ButtonStyle())"
      ]
     },
     "metadata": {},
     "output_type": "display_data"
    },
    {
     "data": {
      "application/vnd.jupyter.widget-view+json": {
       "model_id": "e6237cf57dab409cb3ed23cade55d45f",
       "version_major": 2,
       "version_minor": 0
      },
      "text/plain": [
       "Button(description='drive robot', style=ButtonStyle())"
      ]
     },
     "metadata": {},
     "output_type": "display_data"
    },
    {
     "data": {
      "application/vnd.jupyter.widget-view+json": {
       "model_id": "ed43ce25bd9a42769b46ea92aab6071e",
       "version_major": 2,
       "version_minor": 0
      },
      "text/plain": [
       "Output()"
      ]
     },
     "metadata": {},
     "output_type": "display_data"
    },
    {
     "data": {
      "application/vnd.jupyter.widget-view+json": {
       "model_id": "f0504f5bd9f54a74a07a4696ce05ccf0",
       "version_major": 2,
       "version_minor": 0
      },
      "text/plain": [
       "Canvas(toolbar=Toolbar(toolitems=[('Home', 'Reset original view', 'home', 'home'), ('Back', 'Back to previous …"
      ]
     },
     "metadata": {},
     "output_type": "display_data"
    },
    {
     "data": {
      "application/vnd.jupyter.widget-view+json": {
       "model_id": "b049f0596dc245af93837106f5f0f8c9",
       "version_major": 2,
       "version_minor": 0
      },
      "text/plain": [
       "Canvas(toolbar=Toolbar(toolitems=[('Home', 'Reset original view', 'home', 'home'), ('Back', 'Back to previous …"
      ]
     },
     "metadata": {},
     "output_type": "display_data"
    },
    {
     "data": {
      "application/vnd.jupyter.widget-view+json": {
       "model_id": "84d3b673f4434a0da3b1d3585332eec0",
       "version_major": 2,
       "version_minor": 0
      },
      "text/plain": [
       "Canvas(toolbar=Toolbar(toolitems=[('Home', 'Reset original view', 'home', 'home'), ('Back', 'Back to previous …"
      ]
     },
     "metadata": {},
     "output_type": "display_data"
    }
   ],
   "source": [
    "#%matplotlib widget\n",
    "\n",
    "\n",
    "#used for display the plot of the robot posizion using topic /pose\n",
    "class Visualiser:\n",
    "    \n",
    "    index = 0\n",
    "    \n",
    "    def __init__(self):\n",
    "        self.fig, self.ax = plt.subplots()\n",
    "        self.ln, = plt.plot([], [], 'ro')\n",
    "        self.x_data, self.y_data = [] , []\n",
    "    \n",
    "    def plot_init(self):\n",
    "        self.ax.set_xlim( -10, 10)\n",
    "        self.ax.set_ylim( -10, 10)\n",
    "        return self.ln\n",
    "    \n",
    "    def odom_callback(self, msg):\n",
    "        \n",
    "        self.index = self.index+1\n",
    "        \n",
    "        if self.index == 250:\n",
    "            if len(self.y_data) < 500:\n",
    "                self.y_data.append(msg.pose.pose.position.y)\n",
    "            else:\n",
    "                self.y_data.pop(0)\n",
    "                self.y_data.append(msg.pose.pose.position.y)\n",
    "\n",
    "            if len(self.x_data) < 500:\n",
    "                self.x_data.append(msg.pose.pose.position.x)\n",
    "            else:\n",
    "                self.x_data.pop(0)\n",
    "                self.x_data.append(msg.pose.pose.position.x)\n",
    "                \n",
    "            self.index = 0\n",
    "        \n",
    "            \n",
    "    \n",
    "    def update_plot(self, frame):\n",
    "        #print(\"updateing\")\n",
    "        self.ln.set_data(self.x_data, self.y_data)\n",
    "        return self.ln\n",
    "\n",
    "    \n",
    "    \n",
    "#used for display the laserScan sensor output\n",
    "#use of a polar plot for a simpler interpretation of the data\n",
    "#note that the robot heading angle is moved from from to 90deg for semplicity of rappresentation\n",
    "class Visualiser2:\n",
    "    \n",
    "    def __init__(self):\n",
    "        self.fig, self.ax = plt.subplots( subplot_kw={'projection': 'polar'} )\n",
    "        self.ln, = plt.plot([], [], 'r.' )\n",
    "        self.theta_data = np.arange( 0, np.pi, np.pi/720.0)   #[rad]\n",
    "        self.d_data = []\n",
    "    \n",
    "    def plot_init(self):\n",
    "        #self.ax.set_xlim( -10, 10)\n",
    "        #self.ax.set_ylim( -10, 10)\n",
    "        self.ax.set_rmax(15)\n",
    "        return self.ln\n",
    "    \n",
    "        \n",
    "    def laserScan_callback(self, msg):\n",
    "            self.d_data = msg.ranges\n",
    "    \n",
    "    def update_plot(self, frame):\n",
    "        #print(\"updateing\")\n",
    "        self.ln.set_data( self.theta_data, self.d_data )\n",
    "        return self.ln\n",
    "\n",
    "\n",
    "\n",
    "\n",
    "#intialization of the ros node 'jupyter_user_interface'\n",
    "rospy.init_node('jupyter_user_interface')\n",
    "\n",
    "\n",
    "#create buttons\n",
    "button1 = widgets.Button(description=\"reach coordinate\")\n",
    "button2 = widgets.Button(description=\"drive robot\")\n",
    "button3 = widgets.Button(description=\"start moving\")\n",
    "button4 = widgets.Button(description=\"back to menu\")\n",
    "\n",
    "#movement interface buttons\n",
    "buttonUP = widgets.Button(\n",
    "#    description=\"up\",\n",
    "    icon=\"arrow-up\")\n",
    "\n",
    "buttonDOWN = widgets.Button(\n",
    "#    description=\"down\",\n",
    "    icon=\"arrow-down\")\n",
    "\n",
    "buttonLEFT = widgets.Button(\n",
    "#    description=\"left\",\n",
    "    icon=\"arrow-left\")\n",
    "\n",
    "buttonRIGHT = widgets.Button(\n",
    "#    description=\"right\",\n",
    "    icon=\"arrow-right\")\n",
    "\n",
    "buttonPAUSE = widgets.Button(\n",
    "#    description=\"pause\",\n",
    "    icon=\"pause\")\n",
    "\n",
    "\n",
    "buttonUP_LEFT = widgets.Button(\n",
    "    description = \"up left\",\n",
    "#    icon=\"pause\"\n",
    ")\n",
    "\n",
    "buttonUP_RIGHT = widgets.Button(\n",
    "    description = \"up right\",\n",
    "#    icon=\"pause\"\n",
    ")\n",
    "\n",
    "buttonDOWN_LEFT = widgets.Button(\n",
    "    description = \"down left\",\n",
    "#    icon=\"pause\"\n",
    ")\n",
    "\n",
    "buttonDOWN_RIGHT = widgets.Button(\n",
    "    description = \"down right\",\n",
    "#    icon=\"pause\"\n",
    ")\n",
    "\n",
    "#widget used for displaing the control button in a simple configuration\n",
    "arrow_box = widgets.HBox(\n",
    "    [widgets.VBox([buttonUP_LEFT,  buttonLEFT,  buttonDOWN_LEFT]),\n",
    "    widgets.VBox( [buttonUP,       buttonPAUSE, buttonDOWN]),\n",
    "    widgets.VBox( [buttonUP_RIGHT, buttonRIGHT, buttonDOWN_RIGHT])]\n",
    "    )\n",
    "\n",
    "#toggle widget for activate/deactivate the collision avoidance option during the manual navigation of the robot\n",
    "toggle = widgets.Checkbox(\n",
    "    value = False,\n",
    "    description='active collision avoidance'\n",
    ")\n",
    "\n",
    "#boxes for entering the coordinate of the taget to reach\n",
    "box_x = widgets.FloatText(description=\"x coordinate: \")\n",
    "box_y = widgets.FloatText(description=\"y coordinate: \")\n",
    "\n",
    "\n",
    "\n",
    "#create an output cell\n",
    "output = widgets.Output()\n",
    "\n",
    "#display both button and output cell\n",
    "#display main menu of the GUI\n",
    "display(button1, button2, output)\n",
    "\n",
    "#moved in the GUI for the robot driving\n",
    "#display_map()\n",
    "\n",
    "#listener for buttons 1,2\n",
    "button1.on_click(on_button_clicked_1)\n",
    "button2.on_click(on_button_clicked_2)\n",
    "\n",
    "\n",
    "#visualization of the first plot --> position of the robot\n",
    "vis = Visualiser()\n",
    "sub = rospy.Subscriber('/odom', Odometry, vis.odom_callback)\n",
    "ani = FuncAnimation(vis.fig, vis.update_plot, init_func=vis.plot_init, blit=True)\n",
    "plt.show(block=True)\n",
    "\n",
    "#visualization of the second plot --> data from LaserScan sensor\n",
    "vis2 = Visualiser2()\n",
    "sub2 = rospy.Subscriber('/scan', LaserScan, vis2.laserScan_callback)\n",
    "ani2 = FuncAnimation(vis2.fig, vis2.update_plot, init_func=vis2.plot_init, blit=True)\n",
    "plt.show(block=True)    \n",
    "\n",
    "\n",
    "\n",
    "#histogram\n",
    "fig, ax = plt.subplots()\n",
    "_, _, ln, = ax.hist([])\n",
    "\n",
    "def init():\n",
    "    return ln,\n",
    "\n",
    "def update(frame):\n",
    "    ax.hist(reached_task, bins=3, color='green')\n",
    "    return ln,\n",
    "\n",
    "ani3 = FuncAnimation(fig, update, init_func=init, blit=True)\n",
    "plt.show()"
   ]
  },
  {
   "cell_type": "code",
   "execution_count": null,
   "id": "acd73212",
   "metadata": {},
   "outputs": [],
   "source": []
  }
 ],
 "metadata": {
  "kernelspec": {
   "display_name": "Python 3 (ipykernel)",
   "language": "python",
   "name": "python3"
  },
  "language_info": {
   "codemirror_mode": {
    "name": "ipython",
    "version": 3
   },
   "file_extension": ".py",
   "mimetype": "text/x-python",
   "name": "python",
   "nbconvert_exporter": "python",
   "pygments_lexer": "ipython3",
   "version": "3.8.5"
  },
  "toc": {
   "base_numbering": 1,
   "nav_menu": {},
   "number_sections": true,
   "sideBar": true,
   "skip_h1_title": false,
   "title_cell": "Table of Contents",
   "title_sidebar": "Contents",
   "toc_cell": false,
   "toc_position": {},
   "toc_section_display": true,
   "toc_window_display": false
  },
  "varInspector": {
   "cols": {
    "lenName": 16,
    "lenType": 16,
    "lenVar": 40
   },
   "kernels_config": {
    "python": {
     "delete_cmd_postfix": "",
     "delete_cmd_prefix": "del ",
     "library": "var_list.py",
     "varRefreshCmd": "print(var_dic_list())"
    },
    "r": {
     "delete_cmd_postfix": ") ",
     "delete_cmd_prefix": "rm(",
     "library": "var_list.r",
     "varRefreshCmd": "cat(var_dic_list()) "
    }
   },
   "position": {
    "height": "618.85px",
    "left": "1056px",
    "right": "20px",
    "top": "120px",
    "width": "448px"
   },
   "types_to_exclude": [
    "module",
    "function",
    "builtin_function_or_method",
    "instance",
    "_Feature"
   ],
   "window_display": false
  }
 },
 "nbformat": 4,
 "nbformat_minor": 5
}
